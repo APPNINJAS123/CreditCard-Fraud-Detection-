{
 "cells": [
  {
   "cell_type": "code",
   "execution_count": 47,
   "id": "7aa3fa59-5711-4549-a676-824562c9676a",
   "metadata": {},
   "outputs": [
    {
     "name": "stdout",
     "output_type": "stream",
     "text": [
      "Path to dataset files: /Users/sd/.cache/kagglehub/datasets/mlg-ulb/creditcardfraud/versions/3\n"
     ]
    }
   ],
   "source": [
    "import kagglehub\n",
    "\n",
    "# Download latest version\n",
    "path = kagglehub.dataset_download(\"mlg-ulb/creditcardfraud\")\n",
    "\n",
    "print(\"Path to dataset files:\", path)"
   ]
  },
  {
   "cell_type": "code",
   "execution_count": 48,
   "id": "bb227574-7d53-44f6-a266-3eca258371cd",
   "metadata": {},
   "outputs": [],
   "source": [
    "import pandas as pd\n",
    "import numpy as np\n",
    "import matplotlib.pyplot as plt\n",
    "from sklearn.preprocessing import StandardScaler\n",
    "from sklearn.linear_model import LogisticRegression,RidgeClassifier\n",
    "from sklearn.metrics import confusion_matrix, classification_report,precision_score,recall_score,make_scorer\n",
    "from sklearn.model_selection import GridSearchCV,train_test_split,RandomizedSearchCV,StratifiedKFold\n",
    "from sklearn.pipeline import Pipeline\n",
    "from sklearn.preprocessing import PolynomialFeatures\n",
    "from sklearn.ensemble import RandomForestClassifier\n",
    "from sklearn.model_selection import learning_curve\n",
    "from scipy.stats import randint, uniform\n",
    "\n",
    "\n",
    "from time import perf_counter\n",
    "\n"
   ]
  },
  {
   "cell_type": "code",
   "execution_count": 49,
   "id": "6aa33aa8-fff7-49fc-b868-ecaf25ca3c96",
   "metadata": {},
   "outputs": [],
   "source": [
    "from tqdm.notebook import tqdm"
   ]
  },
  {
   "cell_type": "code",
   "execution_count": 50,
   "id": "a01da51a-398e-4973-bafa-d1f3f37ea8d1",
   "metadata": {},
   "outputs": [],
   "source": [
    "d=pd.read_csv(path+\"/creditcard.csv\")"
   ]
  },
  {
   "cell_type": "code",
   "execution_count": 51,
   "id": "15911a91-24d6-4ae9-87e7-d3fac2b6d14c",
   "metadata": {},
   "outputs": [],
   "source": [
    "df=d[:80000]\n",
    "X=df.drop('Class',axis=1).values\n",
    "y=df['Class'].values"
   ]
  },
  {
   "cell_type": "code",
   "execution_count": 52,
   "id": "94a2ba60-d45c-4f38-831a-3ab006e1a7a8",
   "metadata": {},
   "outputs": [],
   "source": [
    "pipe1 = Pipeline([\n",
    "    ('scaler', StandardScaler()),\n",
    "    ('classifier', RandomForestClassifier(class_weight={0: 1, 1: 10}, random_state=42, n_jobs=-1))\n",
    "])"
   ]
  },
  {
   "cell_type": "code",
   "execution_count": 53,
   "id": "9cd4755a-a1c7-4560-a195-a7a9b0dcfee9",
   "metadata": {},
   "outputs": [],
   "source": [
    "param_dist1 = {\n",
    "    'classifier__n_estimators': [100, 200],  # Keep 100–200; more may not help much\n",
    "    'classifier__max_depth': [5, 7, 9],  # 🔧 Reduce depth (your 10 is too high if training=1.0)\n",
    "    'classifier__min_samples_split': [20, 30, 40],  # 🔧 More samples to split slows overfitting\n",
    "    'classifier__min_samples_leaf': [10, 15, 20],   # 🔧 Bigger leaf = smoother decision\n",
    "    'classifier__max_features': ['sqrt', 'log2'],   # Already good\n",
    "    'classifier__min_impurity_decrease': [0.001, 0.01]  # 🔧 Add stricter purity requirement\n",
    "}\n"
   ]
  },
  {
   "cell_type": "code",
   "execution_count": 55,
   "id": "682c10f9-685b-493e-aaa1-1bc0b9545605",
   "metadata": {},
   "outputs": [],
   "source": [
    "cv = StratifiedKFold(n_splits=5, shuffle=True, random_state=42)\n",
    "search = RandomizedSearchCV(\n",
    "    pipe1,\n",
    "    param_distributions=param_dist1,\n",
    "    n_iter=30,                # Try 30 different combinations\n",
    "    cv=cv,                     # Reduce folds (see next)\n",
    "    scoring={'precision': make_scorer(precision_score), 'recall': make_scorer(recall_score)},\n",
    "    refit='precision',\n",
    "    n_jobs=-1,\n",
    "    random_state=42,\n",
    "    verbose=0\n",
    ")"
   ]
  },
  {
   "cell_type": "code",
   "execution_count": 56,
   "id": "afb530a7-a6f2-4544-8f3d-80b4b3c68ede",
   "metadata": {},
   "outputs": [
    {
     "name": "stdout",
     "output_type": "stream",
     "text": [
      "(80000, 30)\n"
     ]
    }
   ],
   "source": [
    "print(X.shape)"
   ]
  },
  {
   "cell_type": "code",
   "execution_count": 59,
   "id": "638da947-15d2-452a-b75b-e37f81c813fc",
   "metadata": {},
   "outputs": [
    {
     "name": "stdout",
     "output_type": "stream",
     "text": [
      "Number of 1's in y: 196\n"
     ]
    }
   ],
   "source": [
    "num_oness = (y == 1).sum()\n",
    "print(f\"Number of 1's in y: {num_oness}\")"
   ]
  },
  {
   "cell_type": "code",
   "execution_count": 58,
   "id": "f541891c-8346-4e96-a6c5-cf8de68212c2",
   "metadata": {},
   "outputs": [
    {
     "data": {
      "application/vnd.jupyter.widget-view+json": {
       "model_id": "2279e00198b3446ab94ea740a391dcc9",
       "version_major": 2,
       "version_minor": 0
      },
      "text/plain": [
       "Training Random Forest:   0%|          | 0/4 [00:00<?, ?it/s]"
      ]
     },
     "metadata": {},
     "output_type": "display_data"
    },
    {
     "name": "stdout",
     "output_type": "stream",
     "text": [
      "Training took 1056.58 seconds\n"
     ]
    }
   ],
   "source": [
    "start = perf_counter()\n",
    "\n",
    "for i in tqdm(range(5, 21, 5), desc=\"Training Random Forest\"):\n",
    "    search.fit(X, y)  # Same randomized search repeated 4 times\n",
    "\n",
    "elapsed = perf_counter() - start\n",
    "print(f\"Training took {elapsed:.2f} seconds\")\n"
   ]
  },
  {
   "cell_type": "code",
   "execution_count": 60,
   "id": "b10f054d-0747-4eea-9bc7-98826ea2ddfc",
   "metadata": {},
   "outputs": [
    {
     "data": {
      "text/plain": [
       "np.int64(207)"
      ]
     },
     "execution_count": 60,
     "metadata": {},
     "output_type": "execute_result"
    }
   ],
   "source": [
    "search.predict(X).sum()"
   ]
  },
  {
   "cell_type": "code",
   "execution_count": 61,
   "id": "5e192c55-f142-4760-a35c-2771c3f56219",
   "metadata": {},
   "outputs": [],
   "source": [
    "X_train, X_test, y_train, y_test = train_test_split(X, y, test_size=0.2, random_state=42)"
   ]
  },
  {
   "cell_type": "code",
   "execution_count": 68,
   "id": "76c68fb3-e70b-4bf6-8b72-6d750d81156b",
   "metadata": {},
   "outputs": [
    {
     "name": "stdout",
     "output_type": "stream",
     "text": [
      "Number of 1's in y: 41\n"
     ]
    }
   ],
   "source": [
    "num_oness = (y_test == 1).sum()\n",
    "print(f\"Number of 1's in y: {num_oness}\")"
   ]
  },
  {
   "cell_type": "code",
   "execution_count": 69,
   "id": "4081f24d-53ae-41eb-9c2b-74d42c7db7c5",
   "metadata": {},
   "outputs": [
    {
     "data": {
      "text/plain": [
       "np.int64(41)"
      ]
     },
     "execution_count": 69,
     "metadata": {},
     "output_type": "execute_result"
    }
   ],
   "source": [
    "search.predict(X_test).sum()"
   ]
  },
  {
   "cell_type": "code",
   "execution_count": 65,
   "id": "b896f667-4f8c-4ff7-a6d4-bd4f84ac6679",
   "metadata": {},
   "outputs": [
    {
     "data": {
      "image/png": "[encoded data removed]",
      "text/plain": [
       "<Figure size 1000x600 with 1 Axes>"
      ]
     },
     "metadata": {},
     "output_type": "display_data"
    }
   ],
   "source": [
    "\n",
    "\n",
    "train_sizes, train_scores, test_scores = learning_curve(\n",
    "    pipe1, X, y, cv=cv, train_sizes=np.linspace(0.1, 1.0, 10), scoring='precision',n_jobs=-1\n",
    ")\n",
    "\n",
    "train_scores_mean = np.mean(train_scores, axis=1)\n",
    "test_scores_mean = np.mean(test_scores, axis=1)\n",
    "\n",
    "plt.figure(figsize=(10, 6))\n",
    "plt.plot(train_sizes, train_scores_mean, 'o-', color=\"r\", label=\"Training score\")\n",
    "plt.plot(train_sizes, test_scores_mean, 'o-', color=\"g\", label=\"Cross-validation score\")\n",
    "plt.xlabel(\"Training examples\")\n",
    "plt.ylabel(\"Precision Score\")\n",
    "plt.legend(loc=\"best\")\n",
    "plt.title(\"Learning Curve\")\n",
    "plt.grid()\n",
    "plt.show()"
   ]
  },
  {
   "cell_type": "code",
   "execution_count": null,
   "id": "e5cfd172-175f-4a57-b69d-93aaf0e6be28",
   "metadata": {},
   "outputs": [],
   "source": [
    "#use randomSearchCv for faster results"
   ]
  },
  {
   "cell_type": "code",
   "execution_count": 66,
   "id": "8735ad79-36f1-4bdf-9dda-0b1c223dceed",
   "metadata": {},
   "outputs": [],
   "source": [
    "best_model = search.best_estimator_\n",
    "#to predict the best_model of gridsearchcv algo"
   ]
  },
  {
   "cell_type": "code",
   "execution_count": 67,
   "id": "8c409a70-10b3-49fb-abec-aa34c487fcc3",
   "metadata": {},
   "outputs": [
    {
     "data": {
      "text/plain": [
       "np.int64(207)"
      ]
     },
     "execution_count": 67,
     "metadata": {},
     "output_type": "execute_result"
    }
   ],
   "source": [
    "best_model.predict(X).sum()"
   ]
  },
  {
   "cell_type": "code",
   "execution_count": null,
   "id": "f3527552-17a1-4f65-850a-7d88a672947e",
   "metadata": {},
   "outputs": [],
   "source": []
  },
  {
   "cell_type": "code",
   "execution_count": null,
   "id": "785de043-1493-400a-a0c5-7b50f05bcfcb",
   "metadata": {},
   "outputs": [],
   "source": []
  },
  {
   "cell_type": "code",
   "execution_count": null,
   "id": "73ba8b69-cae2-489a-8c90-5b74649428c6",
   "metadata": {},
   "outputs": [],
   "source": []
  },
  {
   "cell_type": "code",
   "execution_count": null,
   "id": "563e3a92-6880-4cde-8843-b9d9b52c651e",
   "metadata": {},
   "outputs": [],
   "source": []
  },
  {
   "cell_type": "code",
   "execution_count": 58,
   "id": "1ccc84be-98f3-4227-b07d-fb4fb1914134",
   "metadata": {},
   "outputs": [
    {
     "ename": "NameError",
     "evalue": "name 'ImbPipeline' is not defined",
     "output_type": "error",
     "traceback": [
      "\u001b[31m---------------------------------------------------------------------------\u001b[39m",
      "\u001b[31mNameError\u001b[39m                                 Traceback (most recent call last)",
      "\u001b[36mCell\u001b[39m\u001b[36m \u001b[39m\u001b[32mIn[58]\u001b[39m\u001b[32m, line 1\u001b[39m\n\u001b[32m----> \u001b[39m\u001b[32m1\u001b[39m pipe = \u001b[43mImbPipeline\u001b[49m([\n\u001b[32m      2\u001b[39m     (\u001b[33m'\u001b[39m\u001b[33mscaler\u001b[39m\u001b[33m'\u001b[39m, StandardScaler()),\n\u001b[32m      3\u001b[39m     (\u001b[33m'\u001b[39m\u001b[33msmote\u001b[39m\u001b[33m'\u001b[39m, SMOTE(random_state=\u001b[32m42\u001b[39m)), \u001b[38;5;66;03m# Add SMOTE for imbalance\u001b[39;00m\n\u001b[32m      4\u001b[39m     (\u001b[33m'\u001b[39m\u001b[33mscale\u001b[39m\u001b[33m'\u001b[39m, PolynomialFeatures()),\n\u001b[32m      5\u001b[39m     (\u001b[33m'\u001b[39m\u001b[33mclassifier\u001b[39m\u001b[33m'\u001b[39m, LogisticRegression(n_jobs=-\u001b[32m1\u001b[39m, \n\u001b[32m      6\u001b[39m                                       solver=\u001b[33m'\u001b[39m\u001b[33msaga\u001b[39m\u001b[33m'\u001b[39m, \u001b[38;5;66;03m# Good for L1/L2, smaller datasets\u001b[39;00m\n\u001b[32m      7\u001b[39m                                       class_weight=\u001b[33m'\u001b[39m\u001b[33mbalanced\u001b[39m\u001b[33m'\u001b[39m, \u001b[38;5;66;03m# Essential for imbalance\u001b[39;00m\n\u001b[32m      8\u001b[39m                                       random_state=\u001b[32m42\u001b[39m, \n\u001b[32m      9\u001b[39m                                       max_iter=\u001b[32m1000\u001b[39m \u001b[38;5;66;03m# Increase max iterations for convergence\u001b[39;00m\n\u001b[32m     10\u001b[39m                                      ))\n\u001b[32m     11\u001b[39m ])\n",
      "\u001b[31mNameError\u001b[39m: name 'ImbPipeline' is not defined"
     ]
    }
   ],
   "source": []
  },
  {
   "cell_type": "code",
   "execution_count": 72,
   "id": "43ed27f9-f4ad-47a8-a136-833ad72bdb1f",
   "metadata": {},
   "outputs": [
    {
     "name": "stdout",
     "output_type": "stream",
     "text": [
      "1.7.0\n"
     ]
    }
   ],
   "source": [
    "\n"
   ]
  },
  {
   "cell_type": "code",
   "execution_count": null,
   "id": "a338afb4-4cbf-467d-8f48-d84b4ed10847",
   "metadata": {},
   "outputs": [],
   "source": [
    "\n"
   ]
  }
 ],
 "metadata": {
  "kernelspec": {
   "display_name": "Python 3 (ipykernel)",
   "language": "python",
   "name": "python3"
  },
  "language_info": {
   "codemirror_mode": {
    "name": "ipython",
    "version": 3
   },
   "file_extension": ".py",
   "mimetype": "text/x-python",
   "name": "python",
   "nbconvert_exporter": "python",
   "pygments_lexer": "ipython3",
   "version": "3.13.4"
  }
 },
 "nbformat": 4,
 "nbformat_minor": 5
}
